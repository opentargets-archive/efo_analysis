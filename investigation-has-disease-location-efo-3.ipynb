{
 "cells": [
  {
   "cell_type": "markdown",
   "metadata": {},
   "source": [
    "# Investigation into `has_disease_location` field of EFO3\n",
    "\n",
    "Some diseases in EFO3 have `has_disease_location` attributes, which take UBERON mapped tissue locations. Open Targets does not currently use this information.\n",
    "\n",
    "This notebook aims to check the coverage of `has_disease_location` across diseases, to help decide whether to incorporate this field into Open Targets data. Open Targets uses UBERON elsewhere, as identifiers for baseline expression tissues.\n",
    "\n",
    "Some possible benefits of adding `has_disease_location` are:\n",
    "* as a way to filter diseases on the target associations page\n",
    "* as a way to suggest similar diseases (those having `has_disease_location` in common)\n",
    "* as a way to prioritise targets based on baseline expression (in relevant tissues)"
   ]
  },
  {
   "cell_type": "code",
   "execution_count": 1,
   "metadata": {
    "collapsed": true
   },
   "outputs": [],
   "source": [
    "# imports\n",
    "import rdflib\n",
    "from rdflib.namespace import RDF\n",
    "from opentargets_ontologyutils import URLZSource\n",
    "import opentargets_ontologyutils.efo\n",
    "from opentargets_ontologyutils.rdf_utils import OntologyClassReader, DiseaseUtils"
   ]
  },
  {
   "cell_type": "code",
   "execution_count": 2,
   "metadata": {
    "collapsed": true
   },
   "outputs": [],
   "source": [
    "# load the ontology-utils disease ontology, the diseases used by open targets\n",
    "disease_ontology = OntologyClassReader()\n",
    "efo_uri = 'https://github.com/EBISPOT/efo/releases/download/v3.3.0/efo.owl'\n",
    "opentargets_ontologyutils.efo.load_open_targets_disease_ontology(disease_ontology, efo_uri)"
   ]
  },
  {
   "cell_type": "code",
   "execution_count": 3,
   "metadata": {
    "collapsed": true
   },
   "outputs": [],
   "source": [
    "# independently of the ontology-utils disease ontology, load efo directly\n",
    "g = rdflib.Graph()\n",
    "with URLZSource(efo_uri).open() as source:\n",
    "    g.parse(file = source, format='xml')"
   ]
  },
  {
   "cell_type": "code",
   "execution_count": 5,
   "metadata": {
    "collapsed": true
   },
   "outputs": [],
   "source": [
    "# useful shorthands\n",
    "subclass_of = rdflib.term.URIRef('http://www.w3.org/2000/01/rdf-schema#subClassOf')\n",
    "has_disease_location = rdflib.term.URIRef('http://www.ebi.ac.uk/efo/EFO_0000784')"
   ]
  },
  {
   "cell_type": "code",
   "execution_count": 6,
   "metadata": {
    "collapsed": true
   },
   "outputs": [],
   "source": [
    "# example diseases (for testing)\n",
    "gallbladder_carcinoma = rdflib.term.URIRef('http://www.ebi.ac.uk/efo/EFO_1001956')\n",
    "rheumatoid_arthritis = rdflib.term.URIRef('http://www.ebi.ac.uk/efo/EFO_0000685')\n",
    "rickets = rdflib.term.URIRef('http://www.ebi.ac.uk/efo/EFO_0005583')"
   ]
  },
  {
   "cell_type": "code",
   "execution_count": 7,
   "metadata": {
    "collapsed": true
   },
   "outputs": [],
   "source": [
    "# check if a (disease) node in the efo graph has the has_disease_location field\n",
    "def has_disease_location_attribute(node):\n",
    "    found_has_disease_location = False\n",
    "    for s in g.objects(subject=node, predicate=subclass_of):\n",
    "        if (type(s) == rdflib.term.BNode):\n",
    "            ps = [p for p in g.predicates(subject=s, object=has_disease_location)]\n",
    "            if (len(ps) > 0):\n",
    "                found_has_disease_location = True\n",
    "    return found_has_disease_location"
   ]
  },
  {
   "cell_type": "code",
   "execution_count": 8,
   "metadata": {},
   "outputs": [
    {
     "name": "stdout",
     "output_type": "stream",
     "text": [
      "gallbladder carcinoma =  True\n",
      "rheumatoid arthritis =  True\n",
      "rickets =  False\n"
     ]
    }
   ],
   "source": [
    "# test on some example diseases\n",
    "print('gallbladder carcinoma = ', has_disease_location_attribute(gallbladder_carcinoma))\n",
    "print('rheumatoid arthritis = ', has_disease_location_attribute(rheumatoid_arthritis))\n",
    "print('rickets = ', has_disease_location_attribute(rickets))"
   ]
  },
  {
   "cell_type": "code",
   "execution_count": 9,
   "metadata": {
    "collapsed": true
   },
   "outputs": [],
   "source": [
    "# check for each disease if it has the has_disease_location field\n",
    "def check_direct(diseases_dict):\n",
    "    label_dict = {}\n",
    "    uri_dict = {}\n",
    "    for uri in diseases_dict:\n",
    "        label = diseases_dict[uri]\n",
    "        node = rdflib.term.URIRef(uri)\n",
    "        value = has_disease_location_attribute(node)\n",
    "        label_dict[label] = value\n",
    "        uri_dict[uri] = value\n",
    "    return (label_dict, uri_dict)"
   ]
  },
  {
   "cell_type": "code",
   "execution_count": 10,
   "metadata": {},
   "outputs": [
    {
     "name": "stdout",
     "output_type": "stream",
     "text": [
      "total diseases considered =  14425\n",
      "diseases with direct has_disease_location =  1315\n"
     ]
    }
   ],
   "source": [
    "# run it\n",
    "(direct_label_dict, direct_uri_dict) = check_direct(disease_ontology.current_classes)\n",
    "print('total diseases considered = ', len(direct_label_dict.values()))\n",
    "print('diseases with direct has_disease_location = ', len([x for x in direct_label_dict.values() if x]))"
   ]
  },
  {
   "cell_type": "code",
   "execution_count": 11,
   "metadata": {
    "collapsed": true
   },
   "outputs": [],
   "source": [
    "# helper function to traverse graph (finds parent diseases)\n",
    "def parents(node, g):\n",
    "    for o in g.objects(subject=node, predicate=subclass_of):\n",
    "        if type(o) == rdflib.term.URIRef:\n",
    "            yield o"
   ]
  },
  {
   "cell_type": "code",
   "execution_count": 12,
   "metadata": {
    "collapsed": true
   },
   "outputs": [],
   "source": [
    "# check for each disease if it (or one of its parents) has the has_disease_location field\n",
    "def check_indirect(disease_dict, direct_uri_dict, direct_label_dict):\n",
    "    indirect_label_dict = {}\n",
    "    for uri in disease_dict:\n",
    "        label = disease_dict[uri]\n",
    "        node = rdflib.term.URIRef(uri)\n",
    "        parent_nodes = set(rt for rt in g.transitiveClosure(parents, node))\n",
    "        has_disease_locations = False\n",
    "        for p in parent_nodes:\n",
    "            if str(p) in direct_uri_dict and direct_uri_dict[str(p)]:\n",
    "                has_disease_locations = True\n",
    "        has_disease_locations = has_disease_locations or direct_label_dict[label]\n",
    "        indirect_label_dict[label] = has_disease_locations\n",
    "    return indirect_label_dict"
   ]
  },
  {
   "cell_type": "code",
   "execution_count": 13,
   "metadata": {},
   "outputs": [
    {
     "name": "stdout",
     "output_type": "stream",
     "text": [
      "total diseases considered =  14425\n",
      "diseases with indirect has_disease_location =  8554\n"
     ]
    }
   ],
   "source": [
    "# run it\n",
    "indirect_label_dict = check_indirect(disease_ontology.current_classes, direct_uri_dict, direct_label_dict)\n",
    "print('total diseases considered = ', len(indirect_label_dict.values()))\n",
    "print('diseases with indirect has_disease_location = ', len([x for x in indirect_label_dict.values() if x]))"
   ]
  },
  {
   "cell_type": "code",
   "execution_count": 14,
   "metadata": {},
   "outputs": [
    {
     "name": "stdout",
     "output_type": "stream",
     "text": [
      "http://www.ebi.ac.uk/efo/EFO_1001199 subvalvular aortic stenosis\n",
      "http://www.ebi.ac.uk/efo/EFO_0000266 aortic stenosis\n",
      "http://www.ebi.ac.uk/efo/EFO_0009531 aortic valve disease\n",
      "http://purl.obolibrary.org/obo/MONDO_0045001 cardiac ventricle disease\n",
      "http://www.ebi.ac.uk/efo/EFO_0003777 heart disease\n",
      "http://purl.obolibrary.org/obo/MONDO_0000651 thoracic disease\n",
      "http://purl.obolibrary.org/obo/MONDO_0024505 disorder by anatomical region\n",
      "http://www.ebi.ac.uk/efo/EFO_0000408 \n",
      "http://www.ifomis.org/bfo/1.1/snap#Disposition \n",
      "http://www.ifomis.org/bfo/1.1/snap#SpecificallyDependentContinuant \n",
      "http://www.ebi.ac.uk/efo/EFO_0000001 \n",
      "http://www.w3.org/2002/07/owl#Thing \n",
      "http://www.ebi.ac.uk/efo/EFO_0000319 cardiovascular disease\n",
      "http://purl.obolibrary.org/obo/MONDO_0021199 disease by anatomical system\n",
      "http://www.ebi.ac.uk/efo/EFO_0000408 \n",
      "http://www.ebi.ac.uk/efo/EFO_0005775 aortic disease\n",
      "http://purl.obolibrary.org/obo/MONDO_0000473 arterial disorder\n",
      "http://www.ebi.ac.uk/efo/EFO_0004264 vascular disease\n",
      "http://www.ebi.ac.uk/efo/EFO_0000319 cardiovascular disease\n",
      "http://www.ebi.ac.uk/efo/EFO_0009551 heart valve disease\n",
      "http://www.ebi.ac.uk/efo/EFO_0003777 heart disease\n"
     ]
    }
   ],
   "source": [
    "# test transitiveClosure on single disease\n",
    "discrete_subaortic_stenosis = rdflib.term.URIRef('http://www.ebi.ac.uk/efo/EFO_1000901')\n",
    "for p in g.transitiveClosure(parents, discrete_subaortic_stenosis):\n",
    "    print(str(p), disease_ontology.current_classes[str(p)] if str(p) in disease_ontology.current_classes else '')"
   ]
  },
  {
   "cell_type": "code",
   "execution_count": null,
   "metadata": {
    "collapsed": true
   },
   "outputs": [],
   "source": []
  }
 ],
 "metadata": {
  "kernelspec": {
   "display_name": "Python 3",
   "language": "python",
   "name": "python3"
  },
  "language_info": {
   "codemirror_mode": {
    "name": "ipython",
    "version": 3
   },
   "file_extension": ".py",
   "mimetype": "text/x-python",
   "name": "python",
   "nbconvert_exporter": "python",
   "pygments_lexer": "ipython3",
   "version": "3.6.1"
  }
 },
 "nbformat": 4,
 "nbformat_minor": 2
}
